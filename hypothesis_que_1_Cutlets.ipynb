{
  "cells": [
    {
      "cell_type": "markdown",
      "id": "7e19eec5",
      "metadata": {
        "id": "7e19eec5"
      },
      "source": [
        "# A F&B manager wants to determine whether there is any significant difference in the diameter of the cutlet between two units. A randomly selected sample of cutlets was collected from both units and measured? Analyze the data and draw inferences at 5% significance level. Please state the assumptions and tests that you carried out to check validity of the assumptions.\n"
      ]
    },
    {
      "cell_type": "code",
      "execution_count": 26,
      "id": "85115766",
      "metadata": {
        "ExecuteTime": {
          "end_time": "2021-12-10T04:50:24.217765Z",
          "start_time": "2021-12-10T04:50:22.180571Z"
        },
        "id": "85115766"
      },
      "outputs": [],
      "source": [
        "import pandas as pd \n",
        "from scipy import stats\n",
        "import numpy as np\n",
        "import seaborn as sns\n",
        "import matplotlib.pyplot as plt"
      ]
    },
    {
      "cell_type": "code",
      "execution_count": 27,
      "id": "f66dd8e6",
      "metadata": {
        "ExecuteTime": {
          "end_time": "2021-12-10T04:50:24.920588Z",
          "start_time": "2021-12-10T04:50:24.219759Z"
        },
        "id": "f66dd8e6"
      },
      "outputs": [],
      "source": [
        "df=pd.read_csv(\"/content/Cutlets.csv\")"
      ]
    },
    {
      "cell_type": "markdown",
      "source": [
        " According to the question determine whether there is any significant difference in the diameter of the cutlet between unit A and unit B \n",
        "  \n",
        "H0=there is no diff in diameter\n",
        "\n",
        "H1= there is diff in diameter\n",
        "  \n",
        "  \n",
        "  Apply Two Tail test"
      ],
      "metadata": {
        "id": "bGylv_Uj8Wxz"
      },
      "id": "bGylv_Uj8Wxz"
    },
    {
      "cell_type": "code",
      "execution_count": 28,
      "id": "492a73fa",
      "metadata": {
        "ExecuteTime": {
          "end_time": "2021-12-10T04:50:27.865460Z",
          "start_time": "2021-12-10T04:50:27.010699Z"
        },
        "id": "492a73fa"
      },
      "outputs": [],
      "source": [
        "UnitA=pd.Series(df.iloc[:,0])"
      ]
    },
    {
      "cell_type": "code",
      "execution_count": 29,
      "id": "397ea2dd",
      "metadata": {
        "ExecuteTime": {
          "end_time": "2021-12-10T04:50:31.391604Z",
          "start_time": "2021-12-10T04:50:30.350697Z"
        },
        "id": "397ea2dd"
      },
      "outputs": [],
      "source": [
        "UnitB=pd.Series(df.iloc[:,1])"
      ]
    },
    {
      "cell_type": "code",
      "execution_count": 30,
      "id": "5f022591",
      "metadata": {
        "ExecuteTime": {
          "end_time": "2021-12-10T04:50:32.060815Z",
          "start_time": "2021-12-10T04:50:31.394596Z"
        },
        "id": "5f022591"
      },
      "outputs": [],
      "source": [
        "#alpha=0.05"
      ]
    },
    {
      "cell_type": "code",
      "execution_count": 31,
      "id": "b93de4e1",
      "metadata": {
        "ExecuteTime": {
          "end_time": "2021-12-10T04:50:32.339428Z",
          "start_time": "2021-12-10T04:50:32.068794Z"
        },
        "colab": {
          "base_uri": "https://localhost:8080/"
        },
        "id": "b93de4e1",
        "outputId": "b70ff9e9-9c55-4986-b8a7-992b43c46b9e"
      },
      "outputs": [
        {
          "output_type": "execute_result",
          "data": {
            "text/plain": [
              "Ttest_indResult(statistic=0.7228688704678061, pvalue=0.4722394724599501)"
            ]
          },
          "metadata": {},
          "execution_count": 31
        }
      ],
      "source": [
        "pvalue =stats.ttest_ind(UnitA,UnitB)\n",
        "pvalue"
      ]
    },
    {
      "cell_type": "code",
      "execution_count": 32,
      "id": "a9a07938",
      "metadata": {
        "ExecuteTime": {
          "end_time": "2021-12-10T04:50:32.995028Z",
          "start_time": "2021-12-10T04:50:32.349395Z"
        },
        "colab": {
          "base_uri": "https://localhost:8080/"
        },
        "id": "a9a07938",
        "outputId": "da459173-9cd4-4ddc-ea12-789d633fbfec"
      },
      "outputs": [
        {
          "output_type": "execute_result",
          "data": {
            "text/plain": [
              "0.4722394724599501"
            ]
          },
          "metadata": {},
          "execution_count": 32
        }
      ],
      "source": [
        "pvalue[1]"
      ]
    },
    {
      "cell_type": "markdown",
      "source": [
        "p value of the test is greater than 0.05(significane level) ,so we will accept null hypothesis.\n",
        "\n",
        "There is no significant difference in the diameter of the cutlet between unitA & unitB"
      ],
      "metadata": {
        "id": "N-WntYEZ84xP"
      },
      "id": "N-WntYEZ84xP"
    },
    {
      "cell_type": "code",
      "source": [
        ""
      ],
      "metadata": {
        "id": "nEV6BbpG85mB"
      },
      "id": "nEV6BbpG85mB",
      "execution_count": 33,
      "outputs": []
    }
  ],
  "metadata": {
    "kernelspec": {
      "display_name": "Python 3",
      "language": "python",
      "name": "python3"
    },
    "language_info": {
      "codemirror_mode": {
        "name": "ipython",
        "version": 3
      },
      "file_extension": ".py",
      "mimetype": "text/x-python",
      "name": "python",
      "nbconvert_exporter": "python",
      "pygments_lexer": "ipython3",
      "version": "3.8.8"
    },
    "colab": {
      "name": "hypothesis  que 1 Cutlets.ipynb",
      "provenance": [],
      "collapsed_sections": []
    }
  },
  "nbformat": 4,
  "nbformat_minor": 5
}